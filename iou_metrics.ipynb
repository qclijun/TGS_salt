{
 "cells": [
  {
   "cell_type": "code",
   "execution_count": 2,
   "metadata": {},
   "outputs": [],
   "source": [
    "import numpy as np\n",
    "from keras.preprocessing.image import load_img, img_to_array\n",
    "from pycocotools import mask as cocomask\n"
   ]
  },
  {
   "cell_type": "code",
   "execution_count": 21,
   "metadata": {},
   "outputs": [
    {
     "name": "stdout",
     "output_type": "stream",
     "text": [
      "[[2 1 0 0]\n",
      " [2 0 0 2]\n",
      " [2 2 2 0]\n",
      " [2 2 1 0]]\n",
      "[[2 2 2 1]\n",
      " [1 1 1 1]\n",
      " [0 0 0 0]\n",
      " [2 0 1 0]]\n",
      "[[0 0 0 0]\n",
      " [0 0 0 0]\n",
      " [0 0 0 0]\n",
      " [0 0 0 0]]\n"
     ]
    }
   ],
   "source": [
    "a = np.random.randint(3, size=(4, 4), dtype=np.uint8)\n",
    "b = np.random.randint(3, size=(4, 4), dtype=np.uint8)\n",
    "c = np.zeros((4, 4), dtype=np.uint8)\n",
    "\n",
    "print(a)\n",
    "print(b)\n",
    "print(c)"
   ]
  },
  {
   "cell_type": "code",
   "execution_count": 11,
   "metadata": {},
   "outputs": [],
   "source": [
    "def rle_from_binary(prediction):\n",
    "    prediction = np.asfortranarray(prediction)\n",
    "    return cocomask.encode(prediction)"
   ]
  },
  {
   "cell_type": "code",
   "execution_count": 7,
   "metadata": {},
   "outputs": [],
   "source": [
    "def get_segmentations(labeled):\n",
    "    nr_true = labeled.max()\n",
    "    segmentations = []\n",
    "    for i in range(1, nr_true + 1):\n",
    "        msk = labeled == i\n",
    "        segmentation = rle_from_binary(msk.astype('uint8'))\n",
    "        segmentation['counts'] = segmentation['counts'].decode(\"UTF-8\")\n",
    "        segmentations.append(segmentation)\n",
    "    return segmentations\n"
   ]
  },
  {
   "cell_type": "code",
   "execution_count": 8,
   "metadata": {},
   "outputs": [],
   "source": [
    "def compute_ious(gt, predictions):\n",
    "    gt_ = get_segmentations(gt)\n",
    "    predictions_ = get_segmentations(predictions)\n",
    "\n",
    "    if len(gt_) == 0 and len(predictions_) == 0:\n",
    "        return np.ones((1, 1))\n",
    "    elif len(gt_) != 0 and len(predictions_) == 0:\n",
    "        return np.zeros((1, 1))\n",
    "    else:\n",
    "        iscrowd = [0 for _ in predictions_]\n",
    "        ious = cocomask.iou(gt_, predictions_, iscrowd)\n",
    "        if not np.array(ious).size:\n",
    "            ious = np.zeros((1, 1))\n",
    "        return ious"
   ]
  },
  {
   "cell_type": "code",
   "execution_count": 9,
   "metadata": {},
   "outputs": [],
   "source": [
    "def compute_precision_at(ious, threshold):\n",
    "    mx1 = np.max(ious, axis=0)\n",
    "    mx2 = np.max(ious, axis=1)\n",
    "    tp = np.sum(mx2 >= threshold)\n",
    "    fp = np.sum(mx2 < threshold)\n",
    "    fn = np.sum(mx1 < threshold)\n",
    "    return float(tp) / (tp + fp + fn)"
   ]
  },
  {
   "cell_type": "code",
   "execution_count": 15,
   "metadata": {},
   "outputs": [],
   "source": [
    "a_ = get_segmentations(a)\n",
    "b_ = get_segmentations(b)\n",
    "c_ = get_segmentations(c)"
   ]
  },
  {
   "cell_type": "code",
   "execution_count": 22,
   "metadata": {},
   "outputs": [
    {
     "data": {
      "text/plain": [
       "(array([[0.14285714, 0.2       ],\n",
       "        [0.16666667, 0.2       ]]),\n",
       " array([[0.]]),\n",
       " array([[0.]]),\n",
       " array([[1.]]))"
      ]
     },
     "execution_count": 22,
     "metadata": {},
     "output_type": "execute_result"
    }
   ],
   "source": [
    "compute_ious(a, b), compute_ious(a, c), compute_ious(b, c), compute_ious(c, c)"
   ]
  },
  {
   "cell_type": "code",
   "execution_count": 26,
   "metadata": {},
   "outputs": [],
   "source": [
    "x = np.array([0.3, 0.5, 0.7, 1.0])\n",
    "ths = np.arange(0.5, 1.0, 0.05)"
   ]
  },
  {
   "cell_type": "code",
   "execution_count": 35,
   "metadata": {},
   "outputs": [
    {
     "name": "stdout",
     "output_type": "stream",
     "text": [
      "[[False False False False False False False False False False]\n",
      " [ True False False False False False False False False False]\n",
      " [ True  True  True  True False False False False False False]\n",
      " [ True  True  True  True  True  True  True  True  True  True]]\n"
     ]
    }
   ],
   "source": [
    "score = x[:, np.newaxis] >= ths\n",
    "print(score)"
   ]
  },
  {
   "cell_type": "code",
   "execution_count": 37,
   "metadata": {},
   "outputs": [
    {
     "data": {
      "text/plain": [
       "array([0. , 0.1, 0.4, 1. ])"
      ]
     },
     "execution_count": 37,
     "metadata": {},
     "output_type": "execute_result"
    }
   ],
   "source": [
    "np.mean(score, axis=1)"
   ]
  },
  {
   "cell_type": "code",
   "execution_count": 2,
   "metadata": {},
   "outputs": [
    {
     "name": "stdout",
     "output_type": "stream",
     "text": [
      "y_true.shape: (101, 101, 1), y_pred.shape: (101, 101, 1)\n"
     ]
    }
   ],
   "source": [
    "img_true_file = \"36ad52a2e8.png\"\n",
    "img_pred_file = \"cc97e87765.png\"\n",
    "\n",
    "y_true = img_to_array(load_img(img_true_file, grayscale=True))\n",
    "y_pred = img_to_array(load_img(img_pred_file, grayscale=True))\n",
    "print('y_true.shape: {}, y_pred.shape: {}'.format(y_true.shape, y_pred.shape))"
   ]
  },
  {
   "cell_type": "code",
   "execution_count": 66,
   "metadata": {},
   "outputs": [
    {
     "data": {
      "text/plain": [
       "(10,)"
      ]
     },
     "execution_count": 66,
     "metadata": {},
     "output_type": "execute_result"
    }
   ],
   "source": [
    "np.arange(0.5, 1, 0.05).shape"
   ]
  },
  {
   "cell_type": "code",
   "execution_count": 67,
   "metadata": {},
   "outputs": [
    {
     "name": "stdout",
     "output_type": "stream",
     "text": [
      "0.5\n",
      "0.55\n",
      "0.6000000000000001\n",
      "0.6500000000000001\n",
      "0.7000000000000002\n",
      "0.7500000000000002\n",
      "0.8000000000000003\n",
      "0.8500000000000003\n",
      "0.9000000000000004\n",
      "0.9500000000000004\n"
     ]
    }
   ],
   "source": [
    "for i in np.arange(0.5, 1, 0.05):\n",
    "    print(i)"
   ]
  },
  {
   "cell_type": "code",
   "execution_count": 8,
   "metadata": {},
   "outputs": [],
   "source": [
    "labels = y_true"
   ]
  },
  {
   "cell_type": "code",
   "execution_count": 4,
   "metadata": {},
   "outputs": [],
   "source": [
    "true_objects, pred_objects = 2, 2"
   ]
  },
  {
   "cell_type": "code",
   "execution_count": 5,
   "metadata": {},
   "outputs": [],
   "source": [
    "intersection = np.histogram2d(y_true.flatten(), y_pred.flatten(), bins=(true_objects, pred_objects))[0]"
   ]
  },
  {
   "cell_type": "code",
   "execution_count": 6,
   "metadata": {},
   "outputs": [
    {
     "data": {
      "text/plain": [
       "array([[4179.,  280.],\n",
       "       [ 383., 5359.]])"
      ]
     },
     "execution_count": 6,
     "metadata": {},
     "output_type": "execute_result"
    }
   ],
   "source": [
    "intersection"
   ]
  },
  {
   "cell_type": "code",
   "execution_count": 9,
   "metadata": {},
   "outputs": [],
   "source": [
    "area_true = np.histogram(labels, bins=true_objects)[0]\n",
    "area_pred = np.histogram(y_pred, bins=pred_objects)[0]\n",
    "area_true = np.expand_dims(area_true, -1)\n",
    "area_pred = np.expand_dims(area_pred, 0)"
   ]
  },
  {
   "cell_type": "code",
   "execution_count": 10,
   "metadata": {},
   "outputs": [
    {
     "data": {
      "text/plain": [
       "(array([[4459],\n",
       "        [5742]]), array([[4562, 5639]]))"
      ]
     },
     "execution_count": 10,
     "metadata": {},
     "output_type": "execute_result"
    }
   ],
   "source": [
    "area_true, area_pred"
   ]
  },
  {
   "cell_type": "code",
   "execution_count": 12,
   "metadata": {},
   "outputs": [
    {
     "name": "stdout",
     "output_type": "stream",
     "text": [
      "[[4842. 9818.]\n",
      " [9921. 6022.]]\n"
     ]
    }
   ],
   "source": [
    "union = area_true + area_pred - intersection\n",
    "print(union)"
   ]
  },
  {
   "cell_type": "code",
   "execution_count": 13,
   "metadata": {},
   "outputs": [
    {
     "name": "stdout",
     "output_type": "stream",
     "text": [
      "[[5359.]]\n"
     ]
    }
   ],
   "source": [
    "intersection = intersection[1:, 1:]\n",
    "print(intersection)"
   ]
  },
  {
   "cell_type": "code",
   "execution_count": 14,
   "metadata": {},
   "outputs": [],
   "source": [
    "union = union[1:, 1:]"
   ]
  },
  {
   "cell_type": "code",
   "execution_count": 15,
   "metadata": {},
   "outputs": [
    {
     "name": "stdout",
     "output_type": "stream",
     "text": [
      "[[6022.]]\n"
     ]
    }
   ],
   "source": [
    "print(union)"
   ]
  },
  {
   "cell_type": "code",
   "execution_count": 16,
   "metadata": {},
   "outputs": [],
   "source": [
    "iou = intersection / union"
   ]
  },
  {
   "cell_type": "code",
   "execution_count": 57,
   "metadata": {},
   "outputs": [
    {
     "data": {
      "text/plain": [
       "array([[0.88990369]])"
      ]
     },
     "execution_count": 57,
     "metadata": {},
     "output_type": "execute_result"
    }
   ],
   "source": [
    "iou"
   ]
  },
  {
   "cell_type": "code",
   "execution_count": 17,
   "metadata": {},
   "outputs": [
    {
     "ename": "ModuleNotFoundError",
     "evalue": "No module named 'pycocotools'",
     "output_type": "error",
     "traceback": [
      "\u001b[0;31m---------------------------------------------------------------------------\u001b[0m",
      "\u001b[0;31mModuleNotFoundError\u001b[0m                       Traceback (most recent call last)",
      "\u001b[0;32m<ipython-input-17-8df162388a6e>\u001b[0m in \u001b[0;36m<module>\u001b[0;34m()\u001b[0m\n\u001b[0;32m----> 1\u001b[0;31m \u001b[0;32mimport\u001b[0m \u001b[0mpycocotools\u001b[0m\u001b[0;34m\u001b[0m\u001b[0m\n\u001b[0m",
      "\u001b[0;31mModuleNotFoundError\u001b[0m: No module named 'pycocotools'"
     ]
    }
   ],
   "source": [
    "import pycocotools"
   ]
  },
  {
   "cell_type": "code",
   "execution_count": 61,
   "metadata": {},
   "outputs": [
    {
     "data": {
      "text/plain": [
       "array([1])"
      ]
     },
     "execution_count": 61,
     "metadata": {},
     "output_type": "execute_result"
    }
   ],
   "source": [
    "np.sum(matches, axis=1)"
   ]
  },
  {
   "cell_type": "code",
   "execution_count": 62,
   "metadata": {},
   "outputs": [
    {
     "data": {
      "text/plain": [
       "array([1])"
      ]
     },
     "execution_count": 62,
     "metadata": {},
     "output_type": "execute_result"
    }
   ],
   "source": [
    "np.sum(matches, axis=0)"
   ]
  },
  {
   "cell_type": "code",
   "execution_count": null,
   "metadata": {},
   "outputs": [],
   "source": [
    "def precision_at(threshold, iou):\n",
    "    matches = iou > threshold\n",
    "    tp = np.sum(matches, axis=1) == 1\n",
    "    fp = np.sum(matches, axis=0) == 0\n",
    "    fn = np.sum(matches, axis=1) == 0\n",
    "    "
   ]
  },
  {
   "cell_type": "code",
   "execution_count": 12,
   "metadata": {},
   "outputs": [],
   "source": [
    "import matplotlib as mpl\n",
    "import matplotlib.pyplot as plt\n",
    "%matplotlib inline"
   ]
  },
  {
   "cell_type": "code",
   "execution_count": 13,
   "metadata": {},
   "outputs": [],
   "source": [
    "xedges = [0, 1, 3, 5]\n",
    "yedges = [0, 2, 3, 4, 6]"
   ]
  },
  {
   "cell_type": "code",
   "execution_count": 14,
   "metadata": {},
   "outputs": [],
   "source": [
    "x = np.random.normal(2, 1, 100)\n",
    "y = np.random.normal(1, 1, 100)"
   ]
  },
  {
   "cell_type": "code",
   "execution_count": 18,
   "metadata": {},
   "outputs": [],
   "source": [
    "H, xedges, yedges = np.histogram2d(x, y, bins=(xedges, yedges))\n",
    "H = H.T"
   ]
  },
  {
   "cell_type": "code",
   "execution_count": 20,
   "metadata": {},
   "outputs": [
    {
     "data": {
      "text/plain": [
       "array([[ 7., 43., 10.],\n",
       "       [ 0.,  5.,  3.],\n",
       "       [ 0.,  4.,  0.],\n",
       "       [ 0.,  0.,  0.]])"
      ]
     },
     "execution_count": 20,
     "metadata": {},
     "output_type": "execute_result"
    }
   ],
   "source": [
    "H"
   ]
  },
  {
   "cell_type": "code",
   "execution_count": 21,
   "metadata": {},
   "outputs": [
    {
     "data": {
      "text/plain": [
       "array([0., 1., 3., 5.])"
      ]
     },
     "execution_count": 21,
     "metadata": {},
     "output_type": "execute_result"
    }
   ],
   "source": [
    "xedges"
   ]
  },
  {
   "cell_type": "code",
   "execution_count": 22,
   "metadata": {},
   "outputs": [
    {
     "data": {
      "text/plain": [
       "array([0., 2., 3., 4., 6.])"
      ]
     },
     "execution_count": 22,
     "metadata": {},
     "output_type": "execute_result"
    }
   ],
   "source": [
    "yedges"
   ]
  },
  {
   "cell_type": "code",
   "execution_count": null,
   "metadata": {},
   "outputs": [],
   "source": [
    " >>> fig = plt.figure(figsize=(7, 3))\n",
    "    >>> ax = fig.add_subplot(131, title='imshow: square bins')\n",
    "    >>> plt.imshow(H, interpolation='nearest', origin='low',\n",
    "    ...         extent=[xedges[0], xedges[-1], yedges[0], yedges[-1]])\n",
    "    \n",
    "    :func:`pcolormesh <matplotlib.pyplot.pcolormesh>` can display actual edges:\n",
    "    \n",
    "    >>> ax = fig.add_subplot(132, title='pcolormesh: actual edges',\n",
    "    ...         aspect='equal')\n",
    "    >>> X, Y = np.meshgrid(xedges, yedges)\n",
    "    >>> ax.pcolormesh(X, Y, H)\n",
    "    \n",
    "    :class:`NonUniformImage <matplotlib.image.NonUniformImage>` can be used to\n",
    "    display actual bin edges with interpolation:\n",
    "    \n",
    "    >>> ax = fig.add_subplot(133, title='NonUniformImage: interpolated',\n",
    "    ...         aspect='equal', xlim=xedges[[0, -1]], ylim=yedges[[0, -1]])\n",
    "    >>> im = mpl.image.NonUniformImage(ax, interpolation='bilinear')\n",
    "    >>> xcenters = (xedges[:-1] + xedges[1:]) / 2\n",
    "    >>> ycenters = (yedges[:-1] + yedges[1:]) / 2\n",
    "    >>> im.set_data(xcenters, ycenters, H)\n",
    "    >>> ax.images.append(im)\n",
    "    >>> plt.show()"
   ]
  },
  {
   "cell_type": "code",
   "execution_count": 33,
   "metadata": {},
   "outputs": [
    {
     "data": {
      "image/png": "[encoded data removed]",
      "text/plain": [
       "<matplotlib.figure.Figure at 0x7fc0250f9b38>"
      ]
     },
     "metadata": {},
     "output_type": "display_data"
    }
   ],
   "source": [
    "fig = plt.figure(figsize=(7, 3))\n",
    "ax = fig.add_subplot(131, title=\"imshow: square bins\")\n",
    "ax.imshow(H, interpolation=\"nearest\", origin=\"low\", extent=(xedges[0], xedges[-1], yedges[0], yedges[-1]))\n",
    "\n",
    "ax = fig.add_subplot(132, title=\"pcolormesh: actual edges\", aspect=\"equal\")\n",
    "X, Y = np.meshgrid(xedges, yedges)\n",
    "ax.pcolormesh(X, Y, H)\n",
    "\n",
    "# ax = fig.add_subplot(133, title=\"NonUniformImage: interpolated\", aspect=\"equal\", xlim=xedges[[0, -1]], ylim=yedges[[0, -1]])\n",
    "# im = mpl.image.NonUniformImage(ax, interpolation=\"bilinear\")\n",
    "# xcenters = (xedges[:-1] + xedges[1:]) / 2\n",
    "# ycenters = (yedges[:-1] + yedges[1:]) / 2\n",
    "# im.set_data(xcenters, ycenters, H)\n",
    "# ax.images.append(im)\n",
    "\n",
    "plt.tight_layout()\n",
    "plt.show()"
   ]
  },
  {
   "cell_type": "code",
   "execution_count": 11,
   "metadata": {},
   "outputs": [
    {
     "name": "stdout",
     "output_type": "stream",
     "text": [
      "Help on function histogram2d in module numpy.lib.twodim_base:\n",
      "\n",
      "histogram2d(x, y, bins=10, range=None, normed=False, weights=None)\n",
      "    Compute the bi-dimensional histogram of two data samples.\n",
      "    \n",
      "    Parameters\n",
      "    ----------\n",
      "    x : array_like, shape (N,)\n",
      "        An array containing the x coordinates of the points to be\n",
      "        histogrammed.\n",
      "    y : array_like, shape (N,)\n",
      "        An array containing the y coordinates of the points to be\n",
      "        histogrammed.\n",
      "    bins : int or array_like or [int, int] or [array, array], optional\n",
      "        The bin specification:\n",
      "    \n",
      "          * If int, the number of bins for the two dimensions (nx=ny=bins).\n",
      "          * If array_like, the bin edges for the two dimensions\n",
      "            (x_edges=y_edges=bins).\n",
      "          * If [int, int], the number of bins in each dimension\n",
      "            (nx, ny = bins).\n",
      "          * If [array, array], the bin edges in each dimension\n",
      "            (x_edges, y_edges = bins).\n",
      "          * A combination [int, array] or [array, int], where int\n",
      "            is the number of bins and array is the bin edges.\n",
      "    \n",
      "    range : array_like, shape(2,2), optional\n",
      "        The leftmost and rightmost edges of the bins along each dimension\n",
      "        (if not specified explicitly in the `bins` parameters):\n",
      "        ``[[xmin, xmax], [ymin, ymax]]``. All values outside of this range\n",
      "        will be considered outliers and not tallied in the histogram.\n",
      "    normed : bool, optional\n",
      "        If False, returns the number of samples in each bin. If True,\n",
      "        returns the bin density ``bin_count / sample_count / bin_area``.\n",
      "    weights : array_like, shape(N,), optional\n",
      "        An array of values ``w_i`` weighing each sample ``(x_i, y_i)``.\n",
      "        Weights are normalized to 1 if `normed` is True. If `normed` is\n",
      "        False, the values of the returned histogram are equal to the sum of\n",
      "        the weights belonging to the samples falling into each bin.\n",
      "    \n",
      "    Returns\n",
      "    -------\n",
      "    H : ndarray, shape(nx, ny)\n",
      "        The bi-dimensional histogram of samples `x` and `y`. Values in `x`\n",
      "        are histogrammed along the first dimension and values in `y` are\n",
      "        histogrammed along the second dimension.\n",
      "    xedges : ndarray, shape(nx+1,)\n",
      "        The bin edges along the first dimension.\n",
      "    yedges : ndarray, shape(ny+1,)\n",
      "        The bin edges along the second dimension.\n",
      "    \n",
      "    See Also\n",
      "    --------\n",
      "    histogram : 1D histogram\n",
      "    histogramdd : Multidimensional histogram\n",
      "    \n",
      "    Notes\n",
      "    -----\n",
      "    When `normed` is True, then the returned histogram is the sample\n",
      "    density, defined such that the sum over bins of the product\n",
      "    ``bin_value * bin_area`` is 1.\n",
      "    \n",
      "    Please note that the histogram does not follow the Cartesian convention\n",
      "    where `x` values are on the abscissa and `y` values on the ordinate\n",
      "    axis.  Rather, `x` is histogrammed along the first dimension of the\n",
      "    array (vertical), and `y` along the second dimension of the array\n",
      "    (horizontal).  This ensures compatibility with `histogramdd`.\n",
      "    \n",
      "    Examples\n",
      "    --------\n",
      "    >>> import matplotlib as mpl\n",
      "    >>> import matplotlib.pyplot as plt\n",
      "    \n",
      "    Construct a 2-D histogram with variable bin width. First define the bin\n",
      "    edges:\n",
      "    \n",
      "    >>> xedges = [0, 1, 3, 5]\n",
      "    >>> yedges = [0, 2, 3, 4, 6]\n",
      "    \n",
      "    Next we create a histogram H with random bin content:\n",
      "    \n",
      "    >>> x = np.random.normal(2, 1, 100)\n",
      "    >>> y = np.random.normal(1, 1, 100)\n",
      "    >>> H, xedges, yedges = np.histogram2d(x, y, bins=(xedges, yedges))\n",
      "    >>> H = H.T  # Let each row list bins with common y range.\n",
      "    \n",
      "    :func:`imshow <matplotlib.pyplot.imshow>` can only display square bins:\n",
      "    \n",
      "    >>> fig = plt.figure(figsize=(7, 3))\n",
      "    >>> ax = fig.add_subplot(131, title='imshow: square bins')\n",
      "    >>> plt.imshow(H, interpolation='nearest', origin='low',\n",
      "    ...         extent=[xedges[0], xedges[-1], yedges[0], yedges[-1]])\n",
      "    \n",
      "    :func:`pcolormesh <matplotlib.pyplot.pcolormesh>` can display actual edges:\n",
      "    \n",
      "    >>> ax = fig.add_subplot(132, title='pcolormesh: actual edges',\n",
      "    ...         aspect='equal')\n",
      "    >>> X, Y = np.meshgrid(xedges, yedges)\n",
      "    >>> ax.pcolormesh(X, Y, H)\n",
      "    \n",
      "    :class:`NonUniformImage <matplotlib.image.NonUniformImage>` can be used to\n",
      "    display actual bin edges with interpolation:\n",
      "    \n",
      "    >>> ax = fig.add_subplot(133, title='NonUniformImage: interpolated',\n",
      "    ...         aspect='equal', xlim=xedges[[0, -1]], ylim=yedges[[0, -1]])\n",
      "    >>> im = mpl.image.NonUniformImage(ax, interpolation='bilinear')\n",
      "    >>> xcenters = (xedges[:-1] + xedges[1:]) / 2\n",
      "    >>> ycenters = (yedges[:-1] + yedges[1:]) / 2\n",
      "    >>> im.set_data(xcenters, ycenters, H)\n",
      "    >>> ax.images.append(im)\n",
      "    >>> plt.show()\n",
      "\n"
     ]
    }
   ],
   "source": [
    "help(np.histogram2d)"
   ]
  }
 ],
 "metadata": {
  "kernelspec": {
   "display_name": "Python 3",
   "language": "python",
   "name": "python3"
  },
  "language_info": {
   "codemirror_mode": {
    "name": "ipython",
    "version": 3
   },
   "file_extension": ".py",
   "mimetype": "text/x-python",
   "name": "python",
   "nbconvert_exporter": "python",
   "pygments_lexer": "ipython3",
   "version": "3.6.4"
  }
 },
 "nbformat": 4,
 "nbformat_minor": 2
}
